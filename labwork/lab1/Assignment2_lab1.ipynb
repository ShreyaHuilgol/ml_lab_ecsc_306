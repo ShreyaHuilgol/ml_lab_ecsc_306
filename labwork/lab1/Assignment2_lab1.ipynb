{
 "cells": [
  {
   "cell_type": "code",
   "execution_count": 3,
   "metadata": {},
   "outputs": [
    {
     "name": "stdout",
     "output_type": "stream",
     "text": [
      "Enter input size5\n",
      "Enter inputs of first array\n",
      "8\n",
      "9\n",
      "4\n",
      "5\n",
      "2\n",
      "Enter inputs of second array\n",
      "7\n",
      "4\n",
      "5\n",
      "6\n",
      "1\n",
      "[8.0, 9.0, 4.0, 5.0, 2.0]\n",
      "[7.0, 4.0, 5.0, 6.0, 1.0]\n",
      "[8.0, 9.0, 4.0, 5.0, 2.0]\n",
      "[7.0, 4.0, 5.0, 6.0, 1.0]\n",
      "Mean of x:\n",
      "5.6\n",
      "Mean of y:\n",
      "4.6\n",
      "Variance of x:\n",
      "6.64\n",
      "Covariance: \n",
      "3.8\n",
      "Value of m :\n",
      "0.572289\n",
      "Value of c: \n",
      "1.39518\n"
     ]
    },
    {
     "data": {
      "image/png": "[encoded data removed]",
      "text/plain": [
       "<matplotlib.figure.Figure at 0x7fe994172d30>"
      ]
     },
     "metadata": {},
     "output_type": "display_data"
    },
    {
     "data": {
      "image/png": "[encoded data removed]",
      "text/plain": [
       "<matplotlib.figure.Figure at 0x7fe9940d2dd8>"
      ]
     },
     "metadata": {},
     "output_type": "display_data"
    }
   ],
   "source": [
    "\n",
    "import tensorflow as tf\n",
    "with tf.name_scope(\"Scope_A\"):\n",
    "    x = list()\n",
    "    n = int(input(\"Enter input size\"))\n",
    "    print(\"Enter inputs of first array\")\n",
    "    for i in range(n):\n",
    "        x.append(float(input()))\n",
    "        \n",
    "with tf.name_scope(\"Scope_B\"):\n",
    "    y = list()\n",
    "    print(\"Enter inputs of second array\")\n",
    "    for i in range(n):\n",
    "        y.append(float(input()))        \n",
    "\n",
    "\n",
    "    print(x)\n",
    "    print(y)\n",
    "with tf.name_scope(\"Scope_C\"):\n",
    "    mean_x = tf.reduce_mean(x)\n",
    "with tf.name_scope(\"Scope_D\"):\n",
    "    mean_y = tf.reduce_mean(y)\n",
    "sess = tf.Session()\n",
    "print(x)\n",
    "print(y)\n",
    "print(\"Mean of x:\")\n",
    "print(sess.run(mean_x))\n",
    "print(\"Mean of y:\")\n",
    "print(sess.run(mean_y))\n",
    "    \n",
    "with tf.name_scope(\"Variance_x\"):\n",
    "    var_x = tf.constant(0.0)\n",
    "    for i in range(n):\n",
    "        a = tf.subtract(x[i],mean_x, name=\"x_minus_mean_of_x\")\n",
    "        b = tf.square(a, name=\"square_of_x_minus_mean_of_x\")\n",
    "        var_x = tf.add(var_x,b, name=\"variance_of_x\")\n",
    "    x_var = tf.realdiv(var_x,n,name=\"var_x\")\n",
    "    print(\"Variance of x:\")\n",
    "print(sess.run(x_var))\n",
    "    \n",
    "with tf.name_scope(\"Covariance\"):\n",
    "    covar_xy = tf.constant(0.0)\n",
    "    for i in range(n):\n",
    "        a = tf.subtract(x[i],mean_x)\n",
    "        b = tf.subtract(y[i],mean_y)\n",
    "        c = tf.multiply(a,b)\n",
    "        covar_xy = tf.add(covar_xy,c)\n",
    "    d = tf.subtract(float(n),1.0)\n",
    "    covar_xy = tf.realdiv(covar_xy,d, name=\"cov_of_xy\")\n",
    "    print(\"Covariance: \")\n",
    "    print(sess.run(covar_xy))\n",
    "    \n",
    "with tf.name_scope(\"m\"):\n",
    "    m = tf.realdiv(covar_xy,x_var)\n",
    "    print(\"Value of m :\")\n",
    "    print(sess.run(m))\n",
    "\n",
    "with tf.name_scope(\"c\"):\n",
    "    mx = tf.multiply(m,mean_x)\n",
    "    c = tf.subtract(mean_y,mx, name=\"constant_c\")\n",
    "    print(\"Value of c: \")\n",
    "print(sess.run(c))\n",
    "import matplotlib.pyplot as plt\n",
    "\n",
    "plt.plot(x,y,\"ro\")\n",
    "plt.show()\n",
    "plt.plot(x,y)\n",
    "plt.show()"
   ]
  },
  {
   "cell_type": "code",
   "execution_count": null,
   "metadata": {
    "collapsed": true
   },
   "outputs": [],
   "source": []
  },
  {
   "cell_type": "code",
   "execution_count": null,
   "metadata": {
    "collapsed": true
   },
   "outputs": [],
   "source": []
  },
  {
   "cell_type": "code",
   "execution_count": null,
   "metadata": {
    "collapsed": true
   },
   "outputs": [],
   "source": []
  }
 ],
 "metadata": {
  "kernelspec": {
   "display_name": "Python 3",
   "language": "python",
   "name": "python3"
  },
  "language_info": {
   "codemirror_mode": {
    "name": "ipython",
    "version": 3
   },
   "file_extension": ".py",
   "mimetype": "text/x-python",
   "name": "python",
   "nbconvert_exporter": "python",
   "pygments_lexer": "ipython3",
   "version": "3.6.1"
  }
 },
 "nbformat": 4,
 "nbformat_minor": 2
}
