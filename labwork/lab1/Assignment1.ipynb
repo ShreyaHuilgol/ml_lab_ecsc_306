{
 "cells": [
  {
   "cell_type": "code",
   "execution_count": 2,
   "metadata": {},
   "outputs": [
    {
     "name": "stdout",
     "output_type": "stream",
     "text": [
      "4\n"
     ]
    }
   ],
   "source": [
    "import tensorflow as tf\n",
    "a=8\n",
    "b=6\n",
    "with tf.name_scope(\"Assignment1\"):\n",
    "    with tf.name_scope(\"Scope_A\"):\n",
    "        x=tf.multiply(a,a)\n",
    "        y=tf.multiply(b,b)\n",
    "    with tf.name_scope(\"Scope_B\"):\n",
    "        z=tf.multiply(2,a)\n",
    "        p=tf.multiply(z,b)\n",
    "    \n",
    "with tf.name_scope(\"Scope_C\"):\n",
    "    q=tf.add(x,y)\n",
    "    r= tf.subtract(q,p)\n",
    "\n",
    "with tf.Session() as sess:\n",
    "    writer = tf.summary.FileWriter(\"/tmp/tboard/ques1\", sess.graph)\n",
    "    print(sess.run(r))\n",
    "    writer.close()"
   ]
  },
  {
   "cell_type": "code",
   "execution_count": 3,
   "metadata": {},
   "outputs": [
    {
     "name": "stdout",
     "output_type": "stream",
     "text": [
      "125\n"
     ]
    }
   ],
   "source": [
    "import tensorflow as tf\n",
    "a=3 \n",
    "b=2\n",
    "\n",
    "with tf.name_scope(\"Assignment1.1\"):\n",
    "    with tf.name_scope(\"Scope_A\"):\n",
    "        x=tf.multiply(a, a)\n",
    "        x1=tf.multiply(x, a)\n",
    "        y=tf.multiply(b, b)\n",
    "        y1=tf.multiply(y, b)\n",
    "    with tf.name_scope(\"Scope_B\"):\n",
    "        z=tf.multiply(3, a)\n",
    "        p=tf.multiply(z, b)\n",
    "    with tf.name_scope(\"Scope_C\"):\n",
    "        q=tf.add(a, b)\n",
    "\n",
    "        \n",
    "with tf.name_scope(\"Scope_D\"):\n",
    "    r=tf.add(x1,y1)\n",
    "    s=tf.multiply(q,p)\n",
    "    t=tf.add(r,s)\n",
    "    \n",
    "    \n",
    "with tf.Session() as sess:\n",
    "    writer = tf.summary.FileWriter(\"/tmp/tboard/ques2\", sess.graph)\n",
    "    print(sess.run(t))\n",
    "    writer.close()"
   ]
  },
  {
   "cell_type": "code",
   "execution_count": 4,
   "metadata": {},
   "outputs": [
    {
     "name": "stdout",
     "output_type": "stream",
     "text": [
      "5.0\n",
      "3.0\n",
      "40.0\n",
      "10.0\n",
      "20.0\n",
      "0.5\n",
      "0.5\n"
     ]
    }
   ],
   "source": [
    "import tensorflow as tf\n",
    "x=tf.constant([1.0,3.0,5.0,7.0,9.0])\n",
    "y=tf.constant([1.0,2.0,3.0,4.0,5.0])\n",
    "\n",
    "x1=tf.reduce_mean(x)\n",
    "y1=tf.reduce_mean(y)\n",
    "\n",
    "ss=tf.Session()\n",
    "print (ss.run(x1))\n",
    "print (ss.run(y1))\n",
    "\n",
    "x2=tf.subtract(x,x1)\n",
    "\n",
    "\n",
    "y2=tf.subtract(y,y1)\n",
    "\n",
    "\n",
    "sqr1=tf.square(x2)\n",
    "\n",
    "sqr2=tf.square(y2)\n",
    "\n",
    "\n",
    "var1=tf.reduce_sum(sqr1)\n",
    "\n",
    "var2=tf.reduce_sum(sqr2)\n",
    "\n",
    "print (ss.run(var1))\n",
    "\n",
    "print (ss.run(var2))\n",
    "\n",
    "tmp=tf.multiply(x2,y2)\n",
    "cov=tf.reduce_sum(tmp)\n",
    "print (ss.run(cov))\n",
    "\n",
    "\n",
    "m=tf.div(cov,var1)\n",
    "print (ss.run(m))\n",
    "\n",
    "tmp2=tf.multiply(m,x1)\n",
    "c=tf.subtract(y1,tmp2)\n",
    "print (ss.run(c))"
   ]
  },
  {
   "cell_type": "code",
   "execution_count": null,
   "metadata": {
    "collapsed": true
   },
   "outputs": [],
   "source": []
  }
 ],
 "metadata": {
  "kernelspec": {
   "display_name": "Python 3",
   "language": "python",
   "name": "python3"
  },
  "language_info": {
   "codemirror_mode": {
    "name": "ipython",
    "version": 3
   },
   "file_extension": ".py",
   "mimetype": "text/x-python",
   "name": "python",
   "nbconvert_exporter": "python",
   "pygments_lexer": "ipython3",
   "version": "3.6.1"
  }
 },
 "nbformat": 4,
 "nbformat_minor": 2
}
